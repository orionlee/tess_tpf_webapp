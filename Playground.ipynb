{
 "cells": [
  {
   "cell_type": "markdown",
   "id": "614abf04-52b9-490f-a84d-d7fee6306016",
   "metadata": {},
   "source": [
    "# `tess-tpf-webapp` Playground\n",
    "\n",
    "Facilitating development by:\n",
    "1. allowing hot swapping the codes (by using `importlib`'s `reload`)\n",
    "2. allowing one to test / try indiviudal UI components\n",
    "\n",
    "Launch the notebook:\n",
    "```\n",
    "# at repository root\n",
    "jupyter notebook --NotebookApp.notebook_dir=.\n",
    "```"
   ]
  },
  {
   "cell_type": "code",
   "execution_count": null,
   "id": "bd218db4-1562-4898-af86-f3482358e8f8",
   "metadata": {},
   "outputs": [],
   "source": [
    "import sys\n",
    "if \"src/\" not in sys.path:  # to get my usual helpers at base dir\n",
    "    sys.path.append(\"src/\")\n",
    "\n",
    "\n",
    "from importlib import reload\n",
    "import lightkurve as lk\n",
    "# in this notebook, `tpf` refers to the webapp module, instead of a TargetPixelFile object\n",
    "import tpf\n",
    "import tpf.main as main\n",
    "import tpf.tpf_utils as tpf_utils"
   ]
  },
  {
   "cell_type": "code",
   "execution_count": null,
   "id": "d07facc8-424f-4187-a7fa-2a29ed6f9fa1",
   "metadata": {},
   "outputs": [],
   "source": [
    "# site configuration\n",
    "\n",
    "notebook_url = None\n",
    "lk_download_dir = None\n",
    "if hasattr(lk, \"conf\"):  # default download dir\n",
    "    lk.conf.cache_dir = lk_download_dir\n"
   ]
  },
  {
   "cell_type": "code",
   "execution_count": null,
   "id": "b1cd25a4-0de2-4b43-bbfb-19dc469a2168",
   "metadata": {},
   "outputs": [],
   "source": [
    "def show_bokeh(ui, notebook_url=notebook_url):\n",
    "    \"\"\"Show the Bokeh UI in Jupyter notebook.\"\"\"\n",
    "    \n",
    "    from bokeh.plotting import curdoc\n",
    "    from bokeh.io import show, output_notebook\n",
    "\n",
    "    def do_show(doc):\n",
    "        doc.add_root(ui)\n",
    "        \n",
    "    output_notebook(verbose=False, hide_banner=True)\n",
    "    return show(do_show, notebook_url=notebook_url)\n"
   ]
  },
  {
   "cell_type": "code",
   "execution_count": null,
   "id": "6c4aa3af-f9e0-4cbe-aab1-a3a1c8df6bf2",
   "metadata": {},
   "outputs": [],
   "source": [
    "tic, sector = 156586273, 23  # TessCut, with ZFF and SkyPatrol\n",
    "# tic, sector = 400621146, 71  # SPOC TPF, NEB case, with ZTF, SkyPatrol, VSX data\n",
    "# tic, sector = 146261607, 7  # SPOC TPF, Gaia DR2 source != Gaia DR3 source\n",
    "# tic, sector = 273039495, 14  # SPOC TPF, known Gaia DR3 Var\n",
    "\n",
    "reload(tpf_utils)\n",
    "\n",
    "# use tpfo (TPF object) to avoid clash with tpf module\n",
    "tpfo, sr = await tpf_utils.get_tpf(tic, sector, \"playground\")\n",
    "display(sr)\n",
    "tpfo"
   ]
  },
  {
   "cell_type": "code",
   "execution_count": null,
   "id": "fa015876-67f8-4719-8cdb-2b6ba1609b5a",
   "metadata": {},
   "outputs": [],
   "source": [
    "reload(tpf.lk_patch.interact_sky_providers.gaia_tic); reload(tpf.ext_gaia_tic)\n",
    "reload(main)\n",
    "\n",
    "magnitude_limit = None\n",
    "show_bokeh(await main.create_app_body_ui(tic, sector, magnitude_limit=magnitude_limit))"
   ]
  },
  {
   "cell_type": "code",
   "execution_count": null,
   "id": "97495d88-bcf0-47f2-99f8-8f19d36b395c",
   "metadata": {},
   "outputs": [],
   "source": [
    "reload(main)\n",
    "\n",
    "show_bokeh(main.create_tpf_interact_ui(tpfo))"
   ]
  },
  {
   "cell_type": "code",
   "execution_count": null,
   "id": "b3b4888f-834b-4921-abc8-6c5c1c7c93d4",
   "metadata": {},
   "outputs": [],
   "source": [
    "reload(main)\n",
    "\n",
    "# https://irsa.ipac.caltech.edu/cgi-bin/ZTF/nph_light_curves?ID=628209400006061&COLLECTION=ztf_dr22&FORMAT=csv\n",
    "# 1.89871\n",
    "show_bokeh(main.create_lc_viewer_ui())"
   ]
  }
 ],
 "metadata": {
  "kernelspec": {
   "display_name": "Python 3 (ipykernel)",
   "language": "python",
   "name": "python3"
  },
  "language_info": {
   "codemirror_mode": {
    "name": "ipython",
    "version": 3
   },
   "file_extension": ".py",
   "mimetype": "text/x-python",
   "name": "python",
   "nbconvert_exporter": "python",
   "pygments_lexer": "ipython3",
   "version": "3.11.10"
  }
 },
 "nbformat": 4,
 "nbformat_minor": 5
}
